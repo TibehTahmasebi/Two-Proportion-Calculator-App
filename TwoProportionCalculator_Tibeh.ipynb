{
  "nbformat": 4,
  "nbformat_minor": 0,
  "metadata": {
    "colab": {
      "provenance": [],
      "authorship_tag": "ABX9TyO8ITiVmc5WDFW8sYRX9bJw",
      "include_colab_link": true
    },
    "kernelspec": {
      "name": "python3",
      "display_name": "Python 3"
    },
    "language_info": {
      "name": "python"
    }
  },
  "cells": [
    {
      "cell_type": "markdown",
      "metadata": {
        "id": "view-in-github",
        "colab_type": "text"
      },
      "source": [
        "<a href=\"https://colab.research.google.com/github/TibehTahmasebi/Two-Proportion-Calculator-App/blob/main/TwoProportionCalculator_Tibeh.ipynb\" target=\"_parent\"><img src=\"https://colab.research.google.com/assets/colab-badge.svg\" alt=\"Open In Colab\"/></a>"
      ]
    },
    {
      "cell_type": "code",
      "execution_count": null,
      "metadata": {
        "colab": {
          "base_uri": "https://localhost:8080/",
          "height": 622
        },
        "id": "bFxwBVKsYLV4",
        "outputId": "9cdf761d-1c96-431d-d167-e8e8970911ff"
      },
      "outputs": [
        {
          "output_type": "stream",
          "name": "stdout",
          "text": [
            "Enter data for group 1:\n",
            "Number of failures: 23\n",
            "Total samples tested: 610\n",
            "Enter data for group 2:\n",
            "Number of failures: 13\n",
            "Total samples tested: 930\n",
            "Enter confidence level (e.g. 90, 95, 99): 95\n",
            "Difference between two proportions: 0.0237\n",
            "Confidence interval: (0.0068, 0.0406)\n",
            "Statistical significance: Yes\n"
          ]
        },
        {
          "output_type": "display_data",
          "data": {
            "text/plain": [
              "<Figure size 640x480 with 1 Axes>"
            ],
            "image/png": "[encoded data removed]"
          },
          "metadata": {}
        }
      ],
      "source": [
        "import math\n",
        "import numpy as np\n",
        "import scipy.stats as stats\n",
        "import matplotlib.pyplot as plt\n",
        "\n",
        "# Function to calculate the difference between two proportions and its confidence interval\n",
        "def calculate_prop_diff(conf_level, d1, n1, d2, n2):\n",
        "    p1 = d1/n1\n",
        "    p2 = d2/n2\n",
        "    prop_diff = p1 - p2\n",
        "    std_error = math.sqrt((p1*(1-p1)/n1) + (p2*(1-p2)/n2))\n",
        "    z_score = abs(round(stats.norm.ppf((1-conf_level/100)/2), 2))\n",
        "    margin_error = std_error * z_score\n",
        "    lower_bound = prop_diff - margin_error\n",
        "    upper_bound = prop_diff + margin_error\n",
        "    p_value = 2*(1 - stats.norm.cdf(abs(prop_diff/std_error)))\n",
        "    return prop_diff, lower_bound, upper_bound, p_value, p1, p2\n",
        "\n",
        "# Function to plot the two proportions\n",
        "def plot_props(p1, p2):\n",
        "    labels = ['Group 1', 'Group 2']\n",
        "    proportions = [p1, p2]\n",
        "    plt.bar(labels, proportions)\n",
        "    plt.ylim([0, 1])\n",
        "    plt.title('Proportions of Failures in Two Groups')\n",
        "    plt.ylabel('Proportion')\n",
        "    plt.show()\n",
        "\n",
        "# Get user inputs\n",
        "print(\"Enter data for group 1:\")\n",
        "d1 = int(input(\"Number of failures: \"))\n",
        "n1 = int(input(\"Total samples tested: \"))\n",
        "\n",
        "print(\"Enter data for group 2:\")\n",
        "d2 = int(input(\"Number of failures: \"))\n",
        "n2 = int(input(\"Total samples tested: \"))\n",
        "\n",
        "conf_level = int(input(\"Enter confidence level (e.g. 90, 95, 99): \"))\n",
        "\n",
        "# Calculate the difference and plot the proportions\n",
        "prop_diff, lower_bound, upper_bound, p_value, p1, p2 = calculate_prop_diff(conf_level, d1, n1, d2, n2)\n",
        "\n",
        "if p_value < 0.05:\n",
        "    print(\"Difference between two proportions: {:.4f}\\nConfidence interval: ({:.4f}, {:.4f})\\nStatistical significance: Yes\".format(prop_diff, lower_bound, upper_bound))\n",
        "else:\n",
        "    print(\"Difference between two proportions: {:.4f}\\nConfidence interval: ({:.4f}, {:.4f})\\nStatistical significance: No\".format(prop_diff, lower_bound, upper_bound))\n",
        "\n",
        "plot_props(p1, p2)"
      ]
    }
  ]
}